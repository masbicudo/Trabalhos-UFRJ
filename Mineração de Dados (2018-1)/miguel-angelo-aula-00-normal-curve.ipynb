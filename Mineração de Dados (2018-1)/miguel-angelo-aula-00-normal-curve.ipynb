{
 "cells": [
  {
   "cell_type": "markdown",
   "metadata": {},
   "source": [
    "# Aula 00 - Miguel Angelo"
   ]
  },
  {
   "cell_type": "code",
   "execution_count": 1,
   "metadata": {},
   "outputs": [],
   "source": [
    "import numpy as np\n",
    "import matplotlib.pyplot as plt\n",
    "import csv"
   ]
  },
  {
   "cell_type": "code",
   "execution_count": 2,
   "metadata": {},
   "outputs": [],
   "source": [
    "f = open(\"./pokemon.csv\", encoding=\"utf-8\")\n",
    "\n",
    "reader = csv.reader(f, delimiter=',', quotechar='\"')\n",
    "\n",
    "# lendo a primeira linha que deve conter o cabeçalho\n",
    "header = next(reader)\n",
    "\n",
    "# obtendo um mapa de nomes para índices de colunas\n",
    "col_id = {}\n",
    "for i, k in enumerate(header):\n",
    "    col_id[k] = i"
   ]
  },
  {
   "cell_type": "markdown",
   "metadata": {},
   "source": [
    "## Fazendo alguma coisa com os dados\n",
    "Vou usar uma pegada mais funcional por que eu gosto!"
   ]
  },
  {
   "cell_type": "code",
   "execution_count": 3,
   "metadata": {},
   "outputs": [
    {
     "name": "stdout",
     "output_type": "stream",
     "text": [
      "[6.9, 13.0, 100.0, 8.5, 19.0, 90.5, 9.0, 22.5, 85.5, 2.9, 9.9, 32.0, 3.2, 10.0, 29.5, 1.8, 30.0, 39.5, 2.0, 38.0, 6.9, 65.0, 6.0, 7.0, 20.0, 60.0, 9.0, 19.5, 62.0, 7.5, 40.0, 5.5, 12.0, 7.5, 55.0, 5.4, 8.6, 18.6, 5.4, 29.5, 30.0, 12.5, 19.6, 76.6, 28.0, 32.0, 19.0, 155.0, 12.4, 20.0, 54.0, 19.5, 56.5, 48.0, 19.5, 70.5, 130.0, 4.0, 6.4, 15.5, 45.5, 55.0, 30.0, 95.0, 36.0, 78.5, 6.0, 60.0, 15.0, 39.2, 85.2, 90.0, 120.0, 4.0, 132.5, 0.1, 0.1, 40.5, 210.0, 32.4, 75.6, 6.5, 60.0, 10.4, 66.6, 2.5, 6.5, 49.8, 50.2, 65.5, 1.0, 9.5, 115.0, 120.0, 34.6, 35.0, 80.0, 8.0, 25.0, 15.0, 39.0, 34.5, 80.0, 54.5, 56.0, 40.6, 30.0, 44.5, 55.0, 88.4, 10.0, 235.0, 220.0, 4.0, 6.5, 29.0, 24.5, 25.0, 36.5, 7.5, 35.0, 11.5, 40.5, 59.0, 460.0, 55.4, 52.6, 60.0, 3.3, 16.5, 210.0, 122.0, 4.0, 6.4, 15.8, 100.5, 7.9, 19.0, 79.5, 9.5, 25.0, 88.8, 6.0, 32.5, 21.2, 40.8, 10.8, 35.6, 8.5, 33.5, 75.0, 12.0, 22.5, 2.0, 3.0, 1.0, 1.5, 3.2, 2.0, 15.0, 7.8, 13.3, 61.5, 5.8, 8.5, 28.5, 38.0, 33.9, 0.5, 1.0, 3.0, 11.5, 1.8, 8.5, 38.0, 8.5, 75.0, 26.5, 27.0, 2.1, 79.5, 1.0, 5.0, 28.5, 41.5, 7.2, 125.8, 14.0, 64.8, 400.0, 7.8, 48.7, 3.9, 118.0, 20.5, 54.0, 28.0, 8.8, 125.8, 35.0, 55.0, 6.5, 55.8, 5.0, 12.0, 28.5, 16.0, 220.0, 50.5, 10.8, 35.0, 152.0, 33.5, 120.0, 32.5, 71.2, 58.0, 21.0, 48.0, 6.0, 23.5, 21.4, 75.5, 46.8, 178.0, 198.0, 187.0, 72.0, 152.0, 202.0, 216.0, 199.0, 5.0, 5.0, 21.6, 52.2, 2.5, 19.5, 52.0, 7.6, 28.0, 81.9, 13.6, 37.0, 17.5, 32.5, 3.6, 10.0, 28.4, 11.5, 31.6, 2.6, 32.5, 55.0, 4.0, 28.0, 59.6, 2.3, 19.8, 9.5, 28.0, 6.6, 20.2, 48.4, 1.7, 3.6, 4.5, 39.2, 24.0, 46.5, 130.5, 5.5, 12.0, 1.2, 16.3, 40.5, 84.0, 86.4, 253.8, 2.0, 97.0, 11.0, 32.6, 11.0, 11.5, 60.0, 120.0, 360.0, 11.2, 31.5, 15.2, 40.2, 4.2, 4.2, 17.7, 17.7, 2.0, 10.3, 80.0, 20.8, 88.8, 130.0, 398.0, 24.0, 220.0, 80.4, 30.6, 71.5, 5.0, 15.0, 15.3, 82.0, 51.3, 77.4, 1.2, 20.6, 40.3, 52.5, 168.0, 154.0, 1.9, 23.6, 11.5, 32.8, 21.5, 108.0, 23.8, 60.4, 12.5, 68.2, 7.4, 162.0, 0.8, 22.0, 2.3, 12.5, 15.0, 30.6, 100.0, 1.0, 47.0, 14.0, 16.8, 256.5, 39.5, 87.6, 150.6, 52.5, 27.0, 22.6, 23.4, 8.7, 42.1, 110.5, 102.6, 95.2, 202.5, 550.0, 230.0, 175.0, 205.0, 40.0, 60.0, 352.0, 950.0, 206.5, 1.1, 60.8, 10.2, 97.0, 310.0, 6.2, 22.0, 55.0, 5.2, 23.0, 84.5, 2.0, 15.5, 24.9, 20.0, 31.5, 2.2, 25.5, 9.5, 30.5, 42.0, 1.2, 14.5, 31.5, 102.5, 57.0, 149.5, 3.4, 6.5, 23.3, 5.5, 38.5, 3.9, 29.5, 33.5, 3.3, 9.3, 6.3, 29.9, 20.3, 1.2, 15.0, 5.5, 33.3, 4.4, 27.3, 3.9, 43.8, 0.6, 19.2, 38.0, 60.5, 187.0, 15.0, 13.0, 24.4, 1.9, 108.0, 20.5, 56.0, 95.0, 105.0, 20.2, 54.0, 49.5, 300.0, 12.0, 61.5, 23.0, 44.4, 27.0, 7.0, 24.0, 65.0, 50.5, 135.5, 34.0, 180.0, 140.0, 282.8, 128.6, 138.6, 68.0, 38.0, 51.5, 25.5, 25.9, 42.5, 291.0, 34.0, 52.0, 340.0, 106.6, 26.6, 0.3, 0.3, 0.3, 0.3, 683.0, 336.0, 430.0, 420.0, 750.0, 85.6, 3.1, 1.4, 50.5, 2.1, 320.0, 4.0, 8.1, 16.0, 63.0, 9.9, 55.5, 150.0, 5.9, 24.5, 94.6, 11.6, 27.0, 4.1, 14.7, 61.0, 10.1, 37.5, 10.5, 30.5, 11.0, 28.0, 13.5, 29.0, 23.3, 60.5, 2.1, 15.0, 29.0, 29.8, 79.5, 18.0, 102.0, 260.0, 2.1, 10.5, 8.5, 40.4, 31.0, 12.5, 40.0, 87.0, 4.5, 17.0, 62.0, 55.5, 51.0, 2.5, 7.3, 20.5, 5.3, 58.5, 200.5, 0.6, 6.6, 6.6, 16.3, 18.0, 15.2, 33.4, 96.3, 37.5, 92.9, 28.0, 14.5, 200.0, 11.8, 30.0, 14.0, 1.5, 76.5, 16.5, 81.0, 9.5, 32.0, 31.0, 107.3, 12.5, 81.1, 5.8, 7.5, 5.8, 18.0, 44.0, 1.0, 8.0, 20.1, 5.5, 24.2, 5.7, 41.0, 57.5, 19.5, 92.5, 5.0, 5.9, 33.0, 1.0, 10.5, 33.0, 135.0, 31.6, 0.6, 14.3, 18.8, 110.0, 21.0, 51.0, 81.0, 0.3, 22.0, 80.5, 9.0, 34.5, 3.1, 13.0, 34.3, 18.0, 36.0, 105.5, 8.5, 260.0, 148.0, 7.7, 25.3, 11.0, 20.0, 35.5, 139.0, 92.0, 330.0, 10.2, 70.0, 94.6, 10.5, 41.0, 9.0, 39.5, 58.0, 33.0, 17.3, 50.0, 160.0, 28.8, 46.0, 250.0, 260.0, 200.0, 63.0, 61.0, 330.0, 345.0, 68.0, 325.0, 48.5, 6.5, 82.5, 9.0, 29.0, 90.0, 9.4, 14.5, 39.0, 7.0, 10.9, 40.0, 5.0, 42.4, 1.7, 16.0, 24.5, 2.5, 8.4, 17.0, 13.5, 81.5, 0.1, 0.9, 10.0, 31.0, 91.0, 8.0, 136.0, 28.0, 3.5, 8.5, 2.0, 4.5, 53.0, 0.5, 15.5, 3.5, 5.0, 3.5, 47.0, 31.0, 96.0, 7.3, 81.5, 8.3, 35.3, 6.0, 21.0, 26.0, 270.0, 25.2, 225.0, 23.5, 21.5, 2.2, 5.7, 2.8, 17.5, 150.5, 3.0, 7.0, 71.0, 15.0, 39.0, 99.5, 505.0, 8.0, 85.0, 215.0, 203.0, 284.6, 8.8, 195.0, 1.5, 16.0, 36.6, 4.3, 25.0, 83.0, 7.5, 17.5, 44.0, 1.2, 14.8, 26.0, 6.0, 14.2, 4.4, 10.5, 45.0, 7.0, 180.0, 3.4, 0.2, 0.5, 9.2, 0.3, 8.0, 14.5, 110.0, 920.0, 4.0, 82.0, 1.5, 18.5, 1.5, 11.5, 4.8, 22.2, 6.8, 135.0, 3.2, 8.2, 21.4, 0.3, 76.0, 82.8, 12.0, 108.0, 70.0, 250.0, 1.2, 120.5, 100.5, 40.0, 19.9, 212.0, 3.3, 0.7, 19.0, 185.0, 210.0, 29.7, 47.0, 78.2, 20.5, 18.6, 45.5, 21.2, 0.1, 999.9, 230.0, 120.0, 55.5, 333.6, 25.0, 100.0, 999.9, 0.1, 888.0, 230.0, 80.5]\n"
     ]
    }
   ],
   "source": [
    "col_weight = col_id['weight_kg']\n",
    "\n",
    "poke_weight_list = reader\n",
    "poke_weight_list = map    ( lambda x : x[col_weight], poke_weight_list )\n",
    "poke_weight_list = filter ( lambda x : x != \"\",       poke_weight_list )\n",
    "poke_weight_list = map    ( lambda x : float(x),      poke_weight_list )\n",
    "poke_weight_list = list   (                           poke_weight_list )\n",
    "\n",
    "print(poke_weight_list)"
   ]
  },
  {
   "cell_type": "code",
   "execution_count": 4,
   "metadata": {},
   "outputs": [
    {
     "name": "stdout",
     "output_type": "stream",
     "text": [
      "mean: 61.37810499359796\n"
     ]
    }
   ],
   "source": [
    "print(\"mean:\", np.mean(poke_weight_list))"
   ]
  },
  {
   "cell_type": "code",
   "execution_count": 5,
   "metadata": {},
   "outputs": [
    {
     "name": "stdout",
     "output_type": "stream",
     "text": [
      "std: 109.28473397573765\n"
     ]
    }
   ],
   "source": [
    "print(\"std:\", np.std(poke_weight_list))"
   ]
  },
  {
   "cell_type": "markdown",
   "metadata": {},
   "source": [
    "## Vou ver o boxplot como fica"
   ]
  },
  {
   "cell_type": "code",
   "execution_count": 6,
   "metadata": {},
   "outputs": [
    {
     "data": {
      "text/plain": [
       "{'boxes': [<matplotlib.lines.Line2D at 0x125765d0>],\n",
       " 'caps': [<matplotlib.lines.Line2D at 0x12576d50>,\n",
       "  <matplotlib.lines.Line2D at 0x12576e50>],\n",
       " 'fliers': [<matplotlib.lines.Line2D at 0x12589510>],\n",
       " 'means': [],\n",
       " 'medians': [<matplotlib.lines.Line2D at 0x125892d0>],\n",
       " 'whiskers': [<matplotlib.lines.Line2D at 0x12576850>,\n",
       "  <matplotlib.lines.Line2D at 0x12576ad0>]}"
      ]
     },
     "execution_count": 6,
     "metadata": {},
     "output_type": "execute_result"
    },
    {
     "data": {
      "image/png": "[encoded data removed]",
      "text/plain": [
       "<Figure size 432x288 with 1 Axes>"
      ]
     },
     "metadata": {},
     "output_type": "display_data"
    }
   ],
   "source": [
    "plt.boxplot(poke_weight_list)"
   ]
  },
  {
   "cell_type": "markdown",
   "metadata": {},
   "source": [
    "## Obtendo a distribuição normal\n",
    "Não importa qual seja a distribuição, a soma de várias instâncias dessa aleatoriedade vai tender para uma curva normal.\n",
    "\n",
    "Claro que quanto mais uniforme for a distribuição, mais rápido será a convergência,\n",
    "ao passo que as menos uniformes poderiam ser entendidas como vários trechinhos\n",
    "pequenininhos que aproximam uma uniforme só naquele intervalo. Então vai demorar mais,\n",
    "pois aquela subdistribuição uniforme é pequena em comparação com o todo.\n",
    "\n",
    "O que eu espero é, por exemplo, que uma distribuição com 4 degraus uniformes e de mesma largura\n",
    "e alturas variadas,\n",
    "vá demorar 4 vezes mais para convergir. Pois a chance de cair em cada degrau uniforme é de 1/4,\n",
    "e para gerar uma normal relativa a cada degrau precisamos de uma certa quantidade de samples."
   ]
  },
  {
   "cell_type": "code",
   "execution_count": 15,
   "metadata": {},
   "outputs": [
    {
     "data": {
      "text/plain": [
       "(array([ 22., 166., 255., 252., 168.,  87.,  31.,  10.,   6.,   2.]),\n",
       " array([ 24.51   ,  35.43375,  46.3575 ,  57.28125,  68.205  ,  79.12875,\n",
       "         90.0525 , 100.97625, 111.9    , 122.82375, 133.7475 ]),\n",
       " <a list of 10 Patch objects>)"
      ]
     },
     "execution_count": 15,
     "metadata": {},
     "output_type": "execute_result"
    },
    {
     "data": {
      "image/png": "[encoded data removed]",
      "text/plain": [
       "<Figure size 432x288 with 1 Axes>"
      ]
     },
     "metadata": {},
     "output_type": "display_data"
    }
   ],
   "source": [
    "from random import shuffle\n",
    "list_of_means = []\n",
    "for i in range(1, 1000):\n",
    "    shuffle(poke_weight_list)\n",
    "    mean = np.mean(poke_weight_list[:40])\n",
    "    list_of_means.append(mean)\n",
    "\n",
    "plt.hist(list_of_means)"
   ]
  },
  {
   "cell_type": "code",
   "execution_count": 8,
   "metadata": {},
   "outputs": [],
   "source": [
    "f.close()"
   ]
  }
 ],
 "metadata": {
  "kernelspec": {
   "display_name": "Python 3",
   "language": "python",
   "name": "python3"
  },
  "language_info": {
   "codemirror_mode": {
    "name": "ipython",
    "version": 3
   },
   "file_extension": ".py",
   "mimetype": "text/x-python",
   "name": "python",
   "nbconvert_exporter": "python",
   "pygments_lexer": "ipython3",
   "version": "3.6.1"
  }
 },
 "nbformat": 4,
 "nbformat_minor": 2
}
