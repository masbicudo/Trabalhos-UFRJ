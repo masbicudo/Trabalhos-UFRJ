{
 "cells": [
  {
   "cell_type": "markdown",
   "metadata": {},
   "source": [
    "# Aula 01 - Miguel Angelo"
   ]
  },
  {
   "cell_type": "code",
   "execution_count": 1,
   "metadata": {},
   "outputs": [],
   "source": [
    "import numpy as np\n",
    "import pandas as pd\n",
    "import matplotlib.pyplot as plt"
   ]
  },
  {
   "cell_type": "markdown",
   "metadata": {},
   "source": [
    "**Carregando dados sobre pokemons**"
   ]
  },
  {
   "cell_type": "code",
   "execution_count": 2,
   "metadata": {},
   "outputs": [],
   "source": [
    "poke = pd.read_csv(\"./pokemon.csv\", encoding=\"utf-8\")"
   ]
  },
  {
   "cell_type": "markdown",
   "metadata": {},
   "source": [
    "**Testando Pandas**"
   ]
  },
  {
   "cell_type": "code",
   "execution_count": 3,
   "metadata": {},
   "outputs": [
    {
     "name": "stdout",
     "output_type": "stream",
     "text": [
      "Index(['abilities', 'against_bug', 'against_dark', 'against_dragon',\n",
      "       'against_electric', 'against_fairy', 'against_fight', 'against_fire',\n",
      "       'against_flying', 'against_ghost', 'against_grass', 'against_ground',\n",
      "       'against_ice', 'against_normal', 'against_poison', 'against_psychic',\n",
      "       'against_rock', 'against_steel', 'against_water', 'attack',\n",
      "       'base_egg_steps', 'base_happiness', 'base_total', 'capture_rate',\n",
      "       'classfication', 'defense', 'experience_growth', 'height_m', 'hp',\n",
      "       'japanese_name', 'name', 'percentage_male', 'pokedex_number',\n",
      "       'sp_attack', 'sp_defense', 'speed', 'type1', 'type2', 'weight_kg',\n",
      "       'generation', 'is_legendary'],\n",
      "      dtype='object')\n",
      "1.00    392\n",
      "2.00    181\n",
      "0.50    156\n",
      "0.00     64\n",
      "4.00      7\n",
      "0.25      1\n",
      "Name: against_electric, dtype: int64\n",
      "(801, 41)\n",
      "                     abilities        name\n",
      "1  ['Overgrow', 'Chlorophyll']     Ivysaur\n",
      "2  ['Overgrow', 'Chlorophyll']    Venusaur\n",
      "3     ['Blaze', 'Solar Power']  Charmander\n"
     ]
    }
   ],
   "source": [
    "print(poke.columns)\n",
    "print(poke[\"against_electric\"].value_counts())\n",
    "print(poke.shape)\n",
    "print(poke[1:4][[\"abilities\",\"name\"]])"
   ]
  },
  {
   "cell_type": "code",
   "execution_count": 4,
   "metadata": {},
   "outputs": [
    {
     "name": "stdout",
     "output_type": "stream",
     "text": [
      "3.0\n"
     ]
    }
   ],
   "source": [
    "print(pd.Series([1,2,3,np.NAN,4,5]).mean())"
   ]
  },
  {
   "cell_type": "markdown",
   "metadata": {},
   "source": [
    "## Fazendo alguma coisa com os dados"
   ]
  },
  {
   "cell_type": "code",
   "execution_count": 5,
   "metadata": {},
   "outputs": [
    {
     "name": "stdout",
     "output_type": "stream",
     "text": [
      "61.378104993597944\n"
     ]
    }
   ],
   "source": [
    "print(poke[\"weight_kg\"].mean())"
   ]
  },
  {
   "cell_type": "code",
   "execution_count": 6,
   "metadata": {},
   "outputs": [
    {
     "name": "stdout",
     "output_type": "stream",
     "text": [
      "109.35476585346377\n"
     ]
    }
   ],
   "source": [
    "print(poke[\"weight_kg\"].std())"
   ]
  },
  {
   "cell_type": "markdown",
   "metadata": {},
   "source": [
    "## Obtendo a distribuição normal\n",
    "Não importa qual seja a distribuição, a soma de várias instâncias dessa variável aleatória vai tender para uma curva normal.\n",
    "\n",
    "Claro que quanto mais uniforme for a distribuição, mais rápido será a convergência,\n",
    "ao passo que as menos uniformes poderiam ser entendidas como vários trechinhos\n",
    "pequenininhos que aproximam uma uniforme só naquele intervalo. Então vai demorar mais,\n",
    "pois aquela subdistribuição uniforme é pequena em comparação com o todo.\n",
    "\n",
    "O que eu espero é, por exemplo, que uma distribuição com 4 degraus uniformes e de mesma largura\n",
    "e alturas variadas,\n",
    "vá demorar 4 vezes mais para convergir. Pois a chance de cair em cada degrau uniforme é de 1/4,\n",
    "e para gerar uma normal relativa a cada degrau precisamos de uma certa quantidade de samples."
   ]
  },
  {
   "cell_type": "code",
   "execution_count": 7,
   "metadata": {},
   "outputs": [
    {
     "data": {
      "text/plain": [
       "(array([  9., 129., 306., 255., 171.,  83.,  28.,  12.,   5.,   1.]),\n",
       " array([ 19.32631579,  31.76968421,  44.21305263,  56.65642105,\n",
       "         69.09978947,  81.54315789,  93.98652632, 106.42989474,\n",
       "        118.87326316, 131.31663158, 143.76      ]),\n",
       " <a list of 10 Patch objects>)"
      ]
     },
     "execution_count": 7,
     "metadata": {},
     "output_type": "execute_result"
    },
    {
     "data": {
      "image/png": "[encoded data removed]",
      "text/plain": [
       "<Figure size 432x288 with 1 Axes>"
      ]
     },
     "metadata": {},
     "output_type": "display_data"
    }
   ],
   "source": [
    "list_of_means = []\n",
    "for i in range(1, 1000):\n",
    "    mean = poke[\"weight_kg\"].sample(40).mean()\n",
    "    list_of_means.append(mean)\n",
    "\n",
    "plt.hist(list_of_means)"
   ]
  }
 ],
 "metadata": {
  "kernelspec": {
   "display_name": "Python 3",
   "language": "python",
   "name": "python3"
  },
  "language_info": {
   "codemirror_mode": {
    "name": "ipython",
    "version": 3
   },
   "file_extension": ".py",
   "mimetype": "text/x-python",
   "name": "python",
   "nbconvert_exporter": "python",
   "pygments_lexer": "ipython3",
   "version": "3.6.1"
  }
 },
 "nbformat": 4,
 "nbformat_minor": 2
}
